{
  "cells": [
    {
      "cell_type": "code",
      "source": [
        "# coding: UTF-8\r\n",
        "import math\r\n",
        "import matplotlib.pyplot as plt"
      ],
      "outputs": [],
      "execution_count": 1,
      "metadata": {
        "gather": {
          "logged": 1656908371348
        }
      }
    },
    {
      "cell_type": "code",
      "source": [
        "# シグモイド関数\r\n",
        "def sigmoid(x):\r\n",
        "    return 1.0 / (1.0 + math.exp(-x))"
      ],
      "outputs": [],
      "execution_count": 2,
      "metadata": {
        "jupyter": {
          "source_hidden": false,
          "outputs_hidden": false
        },
        "nteract": {
          "transient": {
            "deleting": false
          }
        },
        "gather": {
          "logged": 1656908490058
        }
      }
    },
    {
      "cell_type": "code",
      "source": [
        "# ニューロン\r\n",
        "class Neuron:\r\n",
        "    input_sum = 0.0\r\n",
        "    output = 0.0\r\n",
        "\r\n",
        "    def setInput(self, inp):\r\n",
        "        self.input_sum += inp\r\n",
        "\r\n",
        "    def getOutput(self):\r\n",
        "        self.output = sigmoid(self.input_sum)\r\n",
        "        return self.output\r\n",
        "\r\n",
        "    def reset(self):\r\n",
        "        self.input_sum = 0.0\r\n",
        "        self.output = 0.0"
      ],
      "outputs": [],
      "execution_count": 3,
      "metadata": {
        "jupyter": {
          "source_hidden": false,
          "outputs_hidden": false
        },
        "nteract": {
          "transient": {
            "deleting": false
          }
        },
        "gather": {
          "logged": 1656902726789
        }
      }
    },
    {
      "cell_type": "code",
      "source": [
        "# ニューラルネットワーク\r\n",
        "class NeuralNetwork:\r\n",
        "    # 入力の重み\r\n",
        "    w_im = [[0.5, 0.5], [-0.5, 1.0], [0.5, -0.5]]\r\n",
        "    w_mo = [0.1, -0.5, 0.200]\r\n",
        "\r\n",
        "    # 各層の宣言\r\n",
        "    input_layer = [0.0, 0.0, 1.0]\r\n",
        "    middle_layer = [Neuron(), Neuron(), 1.0]\r\n",
        "    output_layer = Neuron()\r\n",
        "\r\n",
        "    # 実行\r\n",
        "    def commit(self, input_data):\r\n",
        "        # 各層のリセット\r\n",
        "        self.input_layer[0] = input_data[0]\r\n",
        "        self.input_layer[1] = input_data[1]\r\n",
        "\r\n",
        "        self.middle_layer[0].reset()\r\n",
        "        self.middle_layer[1].reset()\r\n",
        "\r\n",
        "        self.output_layer.reset()\r\n",
        "\r\n",
        "        # 入力層→中間層\r\n",
        "        self.middle_layer[0].setInput(self.input_layer[0] * self.w_im[0][0])\r\n",
        "        self.middle_layer[0].setInput(self.input_layer[1] * self.w_im[1][0])\r\n",
        "        self.middle_layer[0].setInput(self.input_layer[2] * self.w_im[2][0])\r\n",
        "\r\n",
        "        self.middle_layer[1].setInput(self.input_layer[0] * self.w_im[0][1])\r\n",
        "        self.middle_layer[1].setInput(self.input_layer[1] * self.w_im[1][1])\r\n",
        "        self.middle_layer[1].setInput(self.input_layer[2] * self.w_im[2][1])\r\n",
        "\r\n",
        "        # 中間層→出力層\r\n",
        "        self.output_layer.setInput(self.middle_layer[0].getOutput() * self.w_mo[0])\r\n",
        "        self.output_layer.setInput(self.middle_layer[1].getOutput() * self.w_mo[1])\r\n",
        "        self.output_layer.setInput(self.middle_layer[2] * self.w_mo[2])\r\n",
        "\r\n",
        "        return self.output_layer.getOutput()\r\n",
        "\r\n",
        "    def learn(self, input_data):\r\n",
        "        # 出力値\r\n",
        "        output_data = self.commit([input_data[0], input_data[1]])\r\n",
        "        correct_value = input_data[2]\r\n",
        "        # 学習係数\r\n",
        "        k = 0.3\r\n",
        "\r\n",
        "        # 出力層→中間層\r\n",
        "        # δmo = (出力値 - 正解値) × 出力の微分\r\n",
        "        dalta_w_mo = (correct_value - output_data) * output_data * (1.0 - output_data)\r\n",
        "        old_w_mo = list(self.w_mo)\r\n",
        "        # 修正量 = δmo × 中間層の値 × 学習係数\r\n",
        "        self.w_mo[0] += self.middle_layer[0].output * dalta_w_mo * k\r\n",
        "        self.w_mo[1] += self.middle_layer[1].output * dalta_w_mo * k\r\n",
        "        self.w_mo[2] += self.middle_layer[2] * dalta_w_mo * k\r\n",
        "\r\n",
        "        # 中間層→入力層\r\n",
        "        # δim = δmo × 中間出力の重み × 中間層の微分\r\n",
        "        delta_w_im = [\r\n",
        "            dalta_w_mo * old_w_mo[0] * self.middle_layer[0].output * (1.0 - self.middle_layer[0].output),\r\n",
        "            dalta_w_mo * old_w_mo[1] * self.middle_layer[1].output * (1.0 - self.middle_layer[1].output)\r\n",
        "        ]\r\n",
        "        # 修正量 = δim × 入力層の値 × 学習係数\r\n",
        "        self.w_im[0][0] += self.input_layer[0] * delta_w_im[0] * k\r\n",
        "        self.w_im[0][1] += self.input_layer[0] * delta_w_im[1] * k\r\n",
        "        self.w_im[1][0] += self.input_layer[1] * delta_w_im[0] * k\r\n",
        "        self.w_im[1][1] += self.input_layer[1] * delta_w_im[1] * k\r\n",
        "        self.w_im[2][0] += self.input_layer[2] * delta_w_im[0] * k\r\n",
        "        self.w_im[2][1] += self.input_layer[2] * delta_w_im[1] * k\r\n"
      ],
      "outputs": [],
      "execution_count": 4,
      "metadata": {
        "jupyter": {
          "source_hidden": false,
          "outputs_hidden": false
        },
        "nteract": {
          "transient": {
            "deleting": false
          }
        },
        "gather": {
          "logged": 1656902726953
        }
      }
    },
    {
      "cell_type": "code",
      "source": [
        "# 基準点 (データを 0.0-1.0 の範囲に収める)\r\n",
        "base_x = 34.2\r\n",
        "base_y = 135.1\r\n",
        "base_rate = 0.25"
      ],
      "outputs": [],
      "execution_count": 5,
      "metadata": {
        "jupyter": {
          "source_hidden": false,
          "outputs_hidden": false
        },
        "nteract": {
          "transient": {
            "deleting": false
          }
        },
        "gather": {
          "logged": 1656902727107
        }
      }
    },
    {
      "cell_type": "code",
      "source": [
        "# 座標変換関数\r\n",
        "def to_train(data):\r\n",
        "    return [(float(data[0]) - base_x) * base_rate, (float(data[1]) - base_y) * base_rate, int(data[2])]\r\n",
        "\r\n",
        "# 座標変換関数\r\n",
        "def to_test(data):\r\n",
        "    return [(float(data[0]) - base_x) * base_rate, (float(data[1]) - base_y) * base_rate]\r\n",
        "\r\n",
        "# 座標変換関数\r\n",
        "def from_train(data):\r\n",
        "    return [data[0] / base_rate + base_x, data[1] / base_rate + base_y]"
      ],
      "outputs": [],
      "execution_count": 6,
      "metadata": {
        "jupyter": {
          "source_hidden": false,
          "outputs_hidden": false
        },
        "nteract": {
          "transient": {
            "deleting": false
          }
        },
        "gather": {
          "logged": 1656902727223
        }
      }
    },
    {
      "cell_type": "code",
      "source": [
        "# ファイルの読み込み\r\n",
        "training_data = []\r\n",
        "training_data_file = open(\"locations.training.csv\", \"r\")\r\n",
        "for line in training_data_file:\r\n",
        "    data = line.rstrip().split(\",\")\r\n",
        "    training_data.append(to_train(data))\r\n",
        "training_data_file.close()\r\n",
        "\r\n",
        "#print(training_data)"
      ],
      "outputs": [],
      "execution_count": 7,
      "metadata": {
        "jupyter": {
          "source_hidden": false,
          "outputs_hidden": false
        },
        "nteract": {
          "transient": {
            "deleting": false
          }
        },
        "gather": {
          "logged": 1656902727382
        }
      }
    },
    {
      "cell_type": "code",
      "source": [
        "# ニューラルネットワーク\r\n",
        "neural_network = NeuralNetwork()"
      ],
      "outputs": [],
      "execution_count": 8,
      "metadata": {
        "jupyter": {
          "source_hidden": false,
          "outputs_hidden": false
        },
        "nteract": {
          "transient": {
            "deleting": false
          }
        },
        "gather": {
          "logged": 1656902727563
        }
      }
    },
    {
      "cell_type": "code",
      "source": [
        "# 学習\r\n",
        "print(neural_network.w_im)\r\n",
        "print(neural_network.w_mo)\r\n",
        "\r\n",
        "for t in range(0, 1000):\r\n",
        "    for data in training_data:\r\n",
        "        neural_network.learn(data)\r\n",
        "\r\n",
        "print(neural_network.w_im)\r\n",
        "print(neural_network.w_mo)"
      ],
      "outputs": [
        {
          "output_type": "stream",
          "name": "stdout",
          "text": "[[25.593508771279193, -4.89968497366642], [-7.538225231961233, -0.5876522127267265], [-9.268342931419584, 0.023402366472916443]]\n[-19.418525856170884, 3.7964856050122617, 5.095357555977076]\n[[25.31114922264708, -5.795953033573599], [-22.022508672098446, -18.201217858929912], [-3.1394781608673354, 3.6466293972898574]]\n[-17.293735356064598, 14.874641429903374, 8.587986125273614]\n"
        }
      ],
      "execution_count": 14,
      "metadata": {
        "jupyter": {
          "source_hidden": false,
          "outputs_hidden": false
        },
        "nteract": {
          "transient": {
            "deleting": false
          }
        },
        "gather": {
          "logged": 1656902773161
        }
      }
    },
    {
      "cell_type": "code",
      "source": [
        "# テスト用データ\r\n",
        "test_data = [[34.6, 138.0], [34.6, 138.18], [35.4, 138.0], [34.98, 138.1], [35.0, 138.25], [35.4, 137.6], [34.98, 137.52], [34.5, 138.5], [35.4, 138.1]]\r\n",
        "\r\n",
        "for index in range(len(test_data)):\r\n",
        "    test_data[index] = to_test(test_data[index])    \r\n",
        "\r\n",
        "#print(test_data)"
      ],
      "outputs": [],
      "execution_count": 10,
      "metadata": {
        "jupyter": {
          "source_hidden": false,
          "outputs_hidden": false
        },
        "nteract": {
          "transient": {
            "deleting": false
          }
        },
        "gather": {
          "logged": 1656902736563
        }
      }
    },
    {
      "cell_type": "code",
      "source": [
        "# 表示用結果データ\r\n",
        "position_in_fukui_result = [[], []]\r\n",
        "position_out_fukui_result = [[], []]\r\n",
        "\r\n",
        "for data in test_data:\r\n",
        "    position = from_train(data)\r\n",
        "    if neural_network.commit(data) < 0.5:\r\n",
        "        position_in_fukui_result[0].append(position[1])\r\n",
        "        position_in_fukui_result[1].append(position[0])\r\n",
        "    else:\r\n",
        "        position_out_fukui_result[0].append(position[1])\r\n",
        "        position_out_fukui_result[1].append(position[0])\r\n"
      ],
      "outputs": [],
      "execution_count": 11,
      "metadata": {
        "jupyter": {
          "source_hidden": false,
          "outputs_hidden": false
        },
        "nteract": {
          "transient": {
            "deleting": false
          }
        },
        "gather": {
          "logged": 1656902736775
        }
      }
    },
    {
      "cell_type": "code",
      "source": [
        "# 表示用訓練用データ\r\n",
        "position_in_fukui_training = [[], []]\r\n",
        "position_out_fukui_training = [[], []]\r\n",
        "for data in training_data:\r\n",
        "    position = from_train(data)\r\n",
        "    if data[2] < 0.5:\r\n",
        "        position_in_fukui_training[0].append(position[1])\r\n",
        "        position_in_fukui_training[1].append(position[0])\r\n",
        "    else:\r\n",
        "        position_out_fukui_training[0].append(position[1])\r\n",
        "        position_out_fukui_training[1].append(position[0])"
      ],
      "outputs": [],
      "execution_count": 12,
      "metadata": {
        "jupyter": {
          "source_hidden": false,
          "outputs_hidden": false
        },
        "nteract": {
          "transient": {
            "deleting": false
          }
        },
        "gather": {
          "logged": 1656902736977
        }
      }
    },
    {
      "cell_type": "code",
      "source": [
        "# プロット\r\n",
        "plt.scatter(position_in_fukui_training[0], position_in_fukui_training[1], c=\"red\", label=\"Train - Fukui\", marker=\"+\")\r\n",
        "plt.scatter(position_out_fukui_training[0], position_out_fukui_training[1], c=\"blue\", label=\"Train - Others\", marker=\"+\")\r\n",
        "plt.scatter(position_in_fukui_result[0], position_in_fukui_result[1], c=\"red\", label=\"Result - Fukui\", marker=\"o\")\r\n",
        "plt.scatter(position_out_fukui_result[0], position_out_fukui_result[1], c=\"blue\", label=\"Result - Others\", marker=\"o\")\r\n",
        "plt.legend()\r\n",
        "plt.show()"
      ],
      "outputs": [
        {
          "output_type": "display_data",
          "data": {
            "text/plain": "<Figure size 432x288 with 1 Axes>",
            "image/png": "[encoded data removed]"
          },
          "metadata": {
            "needs_background": "light"
          }
        }
      ],
      "execution_count": 13,
      "metadata": {
        "jupyter": {
          "source_hidden": false,
          "outputs_hidden": false
        },
        "nteract": {
          "transient": {
            "deleting": false
          }
        },
        "gather": {
          "logged": 1656902737204
        }
      }
    }
  ],
  "metadata": {
    "kernelspec": {
      "name": "python38-azureml",
      "language": "python",
      "display_name": "Python 3.8 - AzureML"
    },
    "language_info": {
      "name": "python",
      "version": "3.8.5",
      "mimetype": "text/x-python",
      "codemirror_mode": {
        "name": "ipython",
        "version": 3
      },
      "pygments_lexer": "ipython3",
      "nbconvert_exporter": "python",
      "file_extension": ".py"
    },
    "kernel_info": {
      "name": "python38-azureml"
    },
    "nteract": {
      "version": "nteract-front-end@1.0.0"
    },
    "microsoft": {
      "host": {
        "AzureML": {
          "notebookHasBeenCompleted": true
        }
      }
    }
  },
  "nbformat": 4,
  "nbformat_minor": 2
}